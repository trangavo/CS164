{
 "cells": [
  {
   "cell_type": "code",
   "execution_count": 46,
   "metadata": {},
   "outputs": [],
   "source": [
    "import numpy as np\n",
    "import matplotlib.pyplot as plt\n",
    "# from sympy import *\n",
    "import math"
   ]
  },
  {
   "cell_type": "code",
   "execution_count": 64,
   "metadata": {},
   "outputs": [],
   "source": [
    "def obj_func(x):\n",
    "    return 10*x[0]**2+5*x[0]*x[1]+x[1]**2-14*x[0]-6*x[1]+10\n",
    "\n",
    "def part_0(x):\n",
    "    return 20*x[0] + 5*x[1] -14\n",
    "\n",
    "def part_1(x):\n",
    "    return 2*x[1] + 5*x[0] - 6\n",
    "\n",
    "def step_func(alpha, x, d):\n",
    "    return 10*(x[0] + alpha*d[0])**2+5*(x[0] + alpha*d[0])*(x[1] + alpha*d[1])+(x[1] + alpha*d[1])**2-14*(x[0] + alpha*d[0])-6*(x[1]+alpha*d[1])+10\n",
    "\n",
    "def derive_step(a, x, d):\n",
    "    x, y = x[0], x[1]\n",
    "    dx, dy = d[0], d[1]\n",
    "    return 20*dx*(a*dx + x) + 5*dx*(a*dy + y) - 14*dx + dy*(5*a*dx + 5*x) + 2*dy*(a*dy + y) - 6*dy\n",
    "\n",
    "def find_a(l, u, x, d):\n",
    "    print(l, u)\n",
    "    if derive_step((l+u)/2, x, d) == 0 or u-l < 0.0005:\n",
    "#         print(derive_step((l+u)/2, x, d))\n",
    "        a = ((l+u)/2)\n",
    "        print(a)\n",
    "        return a\n",
    "    elif derive_step((l+u)/2, x, d) > 0:\n",
    "#         print(derive_step((l+u)/2, x, d))\n",
    "        find_a(l, (l+u)/2, x, d)\n",
    "    else:\n",
    "#         print(derive_step((l+u)/2, x, d))\n",
    "        find_a((l+u)/2, u, x, d)\n",
    "        \n",
    "def find_min(l, u):\n",
    "    x = [1, 1]\n",
    "    d = [-part_0(x), -part_1(x)]\n",
    "    while d[0] != 0 and d[1] != 0:\n",
    "        a = find_a(l, u, x, d)\n",
    "        print(a)\n",
    "        x = [x[0] + a*d[0], x[1] + a*d[1]]\n",
    "    return x"
   ]
  },
  {
   "cell_type": "code",
   "execution_count": 48,
   "metadata": {},
   "outputs": [
    {
     "name": "stdout",
     "output_type": "stream",
     "text": [
      "None\n"
     ]
    },
    {
     "ename": "TypeError",
     "evalue": "unsupported operand type(s) for *: 'NoneType' and 'int'",
     "output_type": "error",
     "traceback": [
      "\u001b[0;31m---------------------------------------------------------------------------\u001b[0m",
      "\u001b[0;31mTypeError\u001b[0m                                 Traceback (most recent call last)",
      "\u001b[0;32m<ipython-input-48-758c3f4c0636>\u001b[0m in \u001b[0;36m<module>\u001b[0;34m()\u001b[0m\n\u001b[0;32m----> 1\u001b[0;31m \u001b[0mprint\u001b[0m\u001b[0;34m(\u001b[0m\u001b[0mfind_min\u001b[0m\u001b[0;34m(\u001b[0m\u001b[0;34m-\u001b[0m\u001b[0;36m1\u001b[0m\u001b[0;34m,\u001b[0m \u001b[0;36m1\u001b[0m\u001b[0;34m)\u001b[0m\u001b[0;34m)\u001b[0m\u001b[0;34m\u001b[0m\u001b[0;34m\u001b[0m\u001b[0m\n\u001b[0m",
      "\u001b[0;32m<ipython-input-47-7b6bed64c178>\u001b[0m in \u001b[0;36mfind_min\u001b[0;34m(l, u)\u001b[0m\n\u001b[1;32m     30\u001b[0m         \u001b[0ma\u001b[0m \u001b[0;34m=\u001b[0m \u001b[0mfind_a\u001b[0m\u001b[0;34m(\u001b[0m\u001b[0ml\u001b[0m\u001b[0;34m,\u001b[0m \u001b[0mu\u001b[0m\u001b[0;34m,\u001b[0m \u001b[0mx\u001b[0m\u001b[0;34m,\u001b[0m \u001b[0md\u001b[0m\u001b[0;34m)\u001b[0m\u001b[0;34m\u001b[0m\u001b[0;34m\u001b[0m\u001b[0m\n\u001b[1;32m     31\u001b[0m         \u001b[0mprint\u001b[0m\u001b[0;34m(\u001b[0m\u001b[0ma\u001b[0m\u001b[0;34m)\u001b[0m\u001b[0;34m\u001b[0m\u001b[0;34m\u001b[0m\u001b[0m\n\u001b[0;32m---> 32\u001b[0;31m         \u001b[0mx\u001b[0m \u001b[0;34m=\u001b[0m \u001b[0;34m[\u001b[0m\u001b[0mx\u001b[0m\u001b[0;34m[\u001b[0m\u001b[0;36m0\u001b[0m\u001b[0;34m]\u001b[0m \u001b[0;34m+\u001b[0m \u001b[0ma\u001b[0m\u001b[0;34m*\u001b[0m\u001b[0md\u001b[0m\u001b[0;34m[\u001b[0m\u001b[0;36m0\u001b[0m\u001b[0;34m]\u001b[0m\u001b[0;34m,\u001b[0m \u001b[0mx\u001b[0m\u001b[0;34m[\u001b[0m\u001b[0;36m1\u001b[0m\u001b[0;34m]\u001b[0m \u001b[0;34m+\u001b[0m \u001b[0ma\u001b[0m\u001b[0;34m*\u001b[0m\u001b[0md\u001b[0m\u001b[0;34m[\u001b[0m\u001b[0;36m1\u001b[0m\u001b[0;34m]\u001b[0m\u001b[0;34m]\u001b[0m\u001b[0;34m\u001b[0m\u001b[0;34m\u001b[0m\u001b[0m\n\u001b[0m\u001b[1;32m     33\u001b[0m     \u001b[0;32mreturn\u001b[0m \u001b[0mx\u001b[0m\u001b[0;34m\u001b[0m\u001b[0;34m\u001b[0m\u001b[0m\n",
      "\u001b[0;31mTypeError\u001b[0m: unsupported operand type(s) for *: 'NoneType' and 'int'"
     ]
    }
   ],
   "source": [
    "print(find_min(-1, 1))"
   ]
  },
  {
   "cell_type": "code",
   "execution_count": 65,
   "metadata": {},
   "outputs": [
    {
     "name": "stdout",
     "output_type": "stream",
     "text": [
      "-1 1\n",
      "0.0 1\n",
      "0.0 0.5\n",
      "0.0 0.25\n",
      "0.0 0.125\n",
      "0.0 0.0625\n",
      "0.03125 0.0625\n",
      "0.046875 0.0625\n",
      "0.046875 0.0546875\n",
      "0.046875 0.05078125\n",
      "0.046875 0.048828125\n",
      "0.0478515625 0.048828125\n",
      "0.0478515625 0.04833984375\n",
      "0.048095703125\n",
      "None\n"
     ]
    }
   ],
   "source": [
    "print(find_a(-1, 1, [1, 1], [-part_0([1,1]), -part_1([1,1])]))"
   ]
  },
  {
   "cell_type": "code",
   "execution_count": 50,
   "metadata": {},
   "outputs": [
    {
     "name": "stdout",
     "output_type": "stream",
     "text": [
      "11\n"
     ]
    }
   ],
   "source": [
    "print(part_0([1, 1]))"
   ]
  },
  {
   "cell_type": "code",
   "execution_count": null,
   "metadata": {},
   "outputs": [],
   "source": []
  }
 ],
 "metadata": {
  "kernelspec": {
   "display_name": "Python 3",
   "language": "python",
   "name": "python3"
  },
  "language_info": {
   "codemirror_mode": {
    "name": "ipython",
    "version": 3
   },
   "file_extension": ".py",
   "mimetype": "text/x-python",
   "name": "python",
   "nbconvert_exporter": "python",
   "pygments_lexer": "ipython3",
   "version": "3.6.8"
  }
 },
 "nbformat": 4,
 "nbformat_minor": 2
}
