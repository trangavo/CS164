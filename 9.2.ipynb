{
 "cells": [
  {
   "cell_type": "code",
   "execution_count": 3,
   "metadata": {},
   "outputs": [
    {
     "name": "stdout",
     "output_type": "stream",
     "text": [
      "79.99999987405003 160.00000004415654 7999.999996286696\n"
     ]
    }
   ],
   "source": [
    "import cvxpy as cp\n",
    "import numpy as np\n",
    "\n",
    "# Problem data.\n",
    "np.random.seed(1)\n",
    "\n",
    "# Construct the problem.\n",
    "x, y = cp.Variable(2)\n",
    "objective = cp.Maximize(40*x+30*y)\n",
    "constraints = [0 <= x, 0 <= y, x + y <= 240, 2*x+y <= 320]\n",
    "prob = cp.Problem(objective, constraints)\n",
    "\n",
    "# The optimal objective value is returned by `prob.solve()`.\n",
    "result = prob.solve()\n",
    "# The optimal value for x is stored in `x.value`.\n",
    "print(x.value, y.value, result)"
   ]
  },
  {
   "cell_type": "code",
   "execution_count": 4,
   "metadata": {},
   "outputs": [
    {
     "name": "stdout",
     "output_type": "stream",
     "text": [
      "[ 79.99999987 160.00000004] 7999.999996286696\n"
     ]
    }
   ],
   "source": [
    "import cvxpy as cp\n",
    "import numpy as np\n",
    "\n",
    "# Problem data.\n",
    "np.random.seed(1)\n",
    "\n",
    "# Construct the problem.\n",
    "x = cp.Variable(2)\n",
    "c = np.array([40, 30])\n",
    "c1 = np.array([1, 0])\n",
    "c2 = np.array([0, 1])\n",
    "c3 = np.array([1, 1])\n",
    "c4 = np.array([2, 1])\n",
    "\n",
    "objective = cp.Maximize(c.T@x)\n",
    "constraints = [0 <= c1.T@x, 0 <= c2.T@x, c3.T@x <= 240, c4.T@x <= 320]\n",
    "prob = cp.Problem(objective, constraints)\n",
    "\n",
    "# The optimal objective value is returned by `prob.solve()`.\n",
    "result = prob.solve()\n",
    "# The optimal value for x is stored in `x.value`.\n",
    "print(x.value, result)"
   ]
  },
  {
   "cell_type": "code",
   "execution_count": null,
   "metadata": {},
   "outputs": [],
   "source": []
  }
 ],
 "metadata": {
  "kernelspec": {
   "display_name": "Python 3",
   "language": "python",
   "name": "python3"
  },
  "language_info": {
   "codemirror_mode": {
    "name": "ipython",
    "version": 3
   },
   "file_extension": ".py",
   "mimetype": "text/x-python",
   "name": "python",
   "nbconvert_exporter": "python",
   "pygments_lexer": "ipython3",
   "version": "3.6.8"
  }
 },
 "nbformat": 4,
 "nbformat_minor": 2
}
